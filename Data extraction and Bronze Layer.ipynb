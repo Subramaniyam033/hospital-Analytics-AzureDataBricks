{
 "cells": [
  {
   "cell_type": "code",
   "execution_count": 0,
   "metadata": {
    "application/vnd.databricks.v1+cell": {
     "cellMetadata": {
      "byteLimit": 2048000,
      "rowLimit": 10000
     },
     "inputWidgets": {},
     "nuid": "c58c854b-8624-41d8-a0a8-ac3a4d1ac648",
     "showTitle": false,
     "tableResultSettingsMap": {},
     "title": ""
    }
   },
   "outputs": [],
   "source": [
    "from pyspark.sql.functions import *\n",
    "from pyspark.sql.types import *\n",
    "import uuid, random\n",
    "from datetime import datetime, timedelta"
   ]
  },
  {
   "cell_type": "code",
   "execution_count": 0,
   "metadata": {
    "application/vnd.databricks.v1+cell": {
     "cellMetadata": {
      "byteLimit": 2048000,
      "rowLimit": 10000
     },
     "inputWidgets": {},
     "nuid": "bd38c9f7-0941-4727-91cc-0a48917d4773",
     "showTitle": false,
     "tableResultSettingsMap": {},
     "title": ""
    }
   },
   "outputs": [],
   "source": [
    "# Linking EventHub connection string using Azure Key Vault for security and establishing permission for databricks to access EventHub\n",
    "connection_string = dbutils.secrets.get(scope=\"hospitalanalyticsvaultscope\",key=\"eventhubkey\")\n",
    "event_hub_name = \"hospital-data\"\n",
    "\n",
    "event_hubs_conf = {\n",
    "    'eventhubs.connectionString': sc._jvm.org.apache.spark.eventhubs.EventHubsUtils.encrypt(connection_string)\n",
    "}\n",
    "\n",
    "# Departments in hospital\n",
    "departments = [\"Emergency\", \"Surgery\", \"ICU\", \"Pediatrics\", \"Maternity\", \"Oncology\", \"Cardiology\"]\n",
    "genders = [\"Male\", \"Female\"]\n",
    "\n"
   ]
  },
  {
   "cell_type": "code",
   "execution_count": 0,
   "metadata": {
    "application/vnd.databricks.v1+cell": {
     "cellMetadata": {
      "byteLimit": 2048000,
      "rowLimit": 10000
     },
     "inputWidgets": {},
     "nuid": "0300045c-5d2b-45fc-b31b-6cf494c8ea9c",
     "showTitle": false,
     "tableResultSettingsMap": {},
     "title": ""
    }
   },
   "outputs": [],
   "source": [
    "# creating a fake patient data\n",
    "def generate_patient_event():\n",
    "    admission_time = datetime.utcnow() - timedelta(hours=random.randint(0,72))\n",
    "    discharge_time = admission_time + timedelta(hours = random.randint(1,72))\n",
    "\n",
    "    event = {\n",
    "        \"patient_id\":str(uuid.uuid4()),\n",
    "        \"gender\":random.choice(genders),\n",
    "        \"age\":random.randint(1,100),\n",
    "        \"department\":random.choice(departments),\n",
    "        \"admission_time\":admission_time.isoformat(),\n",
    "        \"discharge_time\":admission_time.isoformat(),\n",
    "        \"bed_id\":random.randint(1,500),\n",
    "        \"hospital_id\":random.randint(1,7)\n",
    "    }\n",
    "\n",
    "    if random.random() < 0.05:\n",
    "        event['age'] = random.randint(101,150)\n",
    "    if random.random() < 0.05:\n",
    "        event['admission_time'] = (datetime.utcnow() + timedelta(hours=random.randint(1,72))).isoformat()\n",
    "\n",
    "    return event        "
   ]
  },
  {
   "cell_type": "code",
   "execution_count": 0,
   "metadata": {
    "application/vnd.databricks.v1+cell": {
     "cellMetadata": {
      "byteLimit": 2048000,
      "rowLimit": 10000
     },
     "inputWidgets": {},
     "nuid": "8bb0adf8-7ba5-4e95-b5c9-3467834e03b8",
     "showTitle": false,
     "tableResultSettingsMap": {},
     "title": ""
    }
   },
   "outputs": [],
   "source": [
    "# Generate micro batch of Events:\n",
    "def generate_batch(n):\n",
    "    return [generate_patient_event() for i in range(n)]\n",
    "  "
   ]
  },
  {
   "cell_type": "code",
   "execution_count": 0,
   "metadata": {
    "application/vnd.databricks.v1+cell": {
     "cellMetadata": {
      "byteLimit": 2048000,
      "rowLimit": 10000
     },
     "inputWidgets": {},
     "nuid": "3bd34094-6421-490b-ab92-49230ff70d55",
     "showTitle": false,
     "tableResultSettingsMap": {},
     "title": ""
    }
   },
   "outputs": [],
   "source": [
    "import time\n",
    "# convert to spark DataFrame (simulate streaming using foreachBatch)\n",
    "schema = StructType([\n",
    "    StructField(\"patient_id\", StringType()),\n",
    "    StructField(\"gender\",StringType()),\n",
    "    StructField(\"age\",IntegerType()),\n",
    "    StructField(\"department\",StringType()),\n",
    "    StructField(\"admission_time\",StringType()),\n",
    "    StructField(\"discharge_time\",StringType()),\n",
    "    StructField(\"bed_id\",IntegerType()),\n",
    "    StructField(\"hospital_id\",IntegerType())\n",
    "])\n"
   ]
  },
  {
   "cell_type": "code",
   "execution_count": 0,
   "metadata": {
    "application/vnd.databricks.v1+cell": {
     "cellMetadata": {
      "byteLimit": 2048000,
      "rowLimit": 10000
     },
     "inputWidgets": {},
     "nuid": "ca38bd85-5f8e-4fc6-ba91-56b795dd0018",
     "showTitle": false,
     "tableResultSettingsMap": {},
     "title": ""
    }
   },
   "outputs": [
    {
     "output_type": "stream",
     "name": "stdout",
     "output_type": "stream",
     "text": [
      "+--------------------+------+---+----------+--------------------+--------------------+------+-----------+\n|          patient_id|gender|age|department|      admission_time|      discharge_time|bed_id|hospital_id|\n+--------------------+------+---+----------+--------------------+--------------------+------+-----------+\n|2cd54130-e271-479...|Female| 52|       ICU|2025-09-04T06:00:...|2025-09-04T06:00:...|   116|          5|\n|eda52907-ab95-451...|Female|100|Cardiology|2025-09-04T03:00:...|2025-09-04T03:00:...|   387|          3|\n|82a87953-693a-421...|Female| 56|Cardiology|2025-09-05T23:00:...|2025-09-05T23:00:...|   411|          5|\n|91254b73-00b8-4a1...|Female| 84|Pediatrics|2025-09-05T06:00:...|2025-09-05T06:00:...|   198|          1|\n|07f07c1b-fe50-433...|  Male| 65|       ICU|2025-09-06T06:00:...|2025-09-06T06:00:...|   446|          3|\n|ae24c930-9659-478...|Female| 77| Emergency|2025-09-03T18:00:...|2025-09-03T18:00:...|   474|          4|\n|899dcdd7-abd6-4c1...|  Male|113|  Oncology|2025-09-04T18:00:...|2025-09-04T18:00:...|   186|          1|\n|7af6a4bd-d988-442...|  Male| 37|Pediatrics|2025-09-05T02:00:...|2025-09-05T02:00:...|   417|          5|\n|658730a4-6582-469...|Female| 41|Cardiology|2025-09-05T10:00:...|2025-09-05T10:00:...|   188|          7|\n|541bfff0-b688-47f...|  Male| 35|Cardiology|2025-09-04T11:00:...|2025-09-04T11:00:...|   198|          2|\n+--------------------+------+---+----------+--------------------+--------------------+------+-----------+\n\n+--------------------+------+---+----------+--------------------+--------------------+------+-----------+\n|          patient_id|gender|age|department|      admission_time|      discharge_time|bed_id|hospital_id|\n+--------------------+------+---+----------+--------------------+--------------------+------+-----------+\n|e38b3545-5a8b-421...|Female| 26|  Oncology|2025-09-04T15:00:...|2025-09-04T15:00:...|    64|          6|\n|3e8d279e-6bd5-4a7...|Female| 29|       ICU|2025-09-04T02:00:...|2025-09-04T02:00:...|   489|          1|\n|67192f6f-2a78-42d...|  Male|  3|       ICU|2025-09-05T20:00:...|2025-09-05T20:00:...|   182|          1|\n|dbeb8709-549a-44c...|Female| 63|Pediatrics|2025-09-04T10:00:...|2025-09-04T10:00:...|    73|          5|\n|454ee5dc-ea89-4aa...|Female| 96|       ICU|2025-09-04T12:00:...|2025-09-04T12:00:...|   176|          5|\n|64366603-7862-4fa...|  Male| 99|  Oncology|2025-09-04T06:00:...|2025-09-04T06:00:...|   327|          6|\n|beecddda-fc35-4cf...|  Male|100|Pediatrics|2025-09-04T21:00:...|2025-09-04T21:00:...|   384|          7|\n|2af850da-34e8-483...|Female| 39|Cardiology|2025-09-05T03:00:...|2025-09-05T03:00:...|   256|          5|\n|5fb59cf9-45a6-421...|  Male| 37|       ICU|2025-09-05T15:00:...|2025-09-05T15:00:...|    63|          2|\n|b4b3193c-4a78-4da...|Female| 12|Cardiology|2025-09-05T00:00:...|2025-09-05T00:00:...|   250|          4|\n+--------------------+------+---+----------+--------------------+--------------------+------+-----------+\n\n+--------------------+------+---+----------+--------------------+--------------------+------+-----------+\n|          patient_id|gender|age|department|      admission_time|      discharge_time|bed_id|hospital_id|\n+--------------------+------+---+----------+--------------------+--------------------+------+-----------+\n|73171e34-cbce-452...|Female| 34|  Oncology|2025-09-05T19:00:...|2025-09-05T19:00:...|   258|          3|\n|a0930356-af6c-4d2...|Female| 58|  Oncology|2025-09-04T21:00:...|2025-09-04T21:00:...|   482|          2|\n|fc46ea08-bfd9-4fd...|Female| 51|Cardiology|2025-09-03T19:00:...|2025-09-03T19:00:...|   260|          3|\n|9a32d1e1-7a1b-42f...|  Male| 83| Maternity|2025-09-05T10:00:...|2025-09-05T10:00:...|   474|          1|\n|d01bf954-b0ad-4b0...|  Male| 23|Cardiology|2025-09-04T06:00:...|2025-09-04T06:00:...|   157|          2|\n|da138ac6-e31f-499...|  Male|137|Pediatrics|2025-09-06T07:00:...|2025-09-06T07:00:...|     3|          5|\n|516de603-958b-43b...|Female| 80| Emergency|2025-09-04T17:00:...|2025-09-04T17:00:...|    15|          5|\n|6e3d4454-ec98-471...|  Male| 13|  Oncology|2025-09-06T10:00:...|2025-09-06T10:00:...|   210|          1|\n|a108b24d-7928-44f...|Female| 73|   Surgery|2025-09-06T12:00:...|2025-09-06T12:00:...|   187|          6|\n|c50f5baf-016d-4d0...|  Male| 94|  Oncology|2025-09-05T05:00:...|2025-09-05T05:00:...|   188|          2|\n+--------------------+------+---+----------+--------------------+--------------------+------+-----------+\n\n+--------------------+------+---+----------+--------------------+--------------------+------+-----------+\n|          patient_id|gender|age|department|      admission_time|      discharge_time|bed_id|hospital_id|\n+--------------------+------+---+----------+--------------------+--------------------+------+-----------+\n|4b86684b-b612-411...|Female|128|   Surgery|2025-09-04T22:00:...|2025-09-04T22:00:...|   242|          4|\n|b716340a-e8be-480...|  Male| 51| Emergency|2025-09-05T18:00:...|2025-09-05T18:00:...|   181|          2|\n|3d34d749-21a2-4c6...|  Male| 57|Cardiology|2025-09-03T14:00:...|2025-09-03T14:00:...|     7|          4|\n|3070e985-9b21-453...|  Male| 61|   Surgery|2025-09-05T23:00:...|2025-09-05T23:00:...|    39|          5|\n|6b5c2fbb-d1de-4d6...|Female| 26| Maternity|2025-09-04T09:00:...|2025-09-04T09:00:...|   116|          3|\n|a22f7a33-47f2-45c...|  Male| 73|  Oncology|2025-09-04T11:00:...|2025-09-04T11:00:...|   469|          2|\n|90493b47-15ab-49d...|Female|  1| Emergency|2025-09-04T09:00:...|2025-09-04T09:00:...|   413|          7|\n|7e544abc-f979-485...|  Male| 11|       ICU|2025-09-04T18:00:...|2025-09-04T18:00:...|   354|          1|\n|1fff773d-3b57-47d...|Female| 93|  Oncology|2025-09-05T03:00:...|2025-09-05T03:00:...|   420|          2|\n|370775b3-010c-45f...|Female| 27| Emergency|2025-09-05T10:00:...|2025-09-05T10:00:...|   107|          5|\n+--------------------+------+---+----------+--------------------+--------------------+------+-----------+\n\n+--------------------+------+---+----------+--------------------+--------------------+------+-----------+\n|          patient_id|gender|age|department|      admission_time|      discharge_time|bed_id|hospital_id|\n+--------------------+------+---+----------+--------------------+--------------------+------+-----------+\n|a128d7ca-f0e2-4f2...|  Male|  3|       ICU|2025-09-09T03:00:...|2025-09-05T04:00:...|   423|          2|\n|bc52c180-2d62-428...|  Male|  8| Emergency|2025-09-05T06:00:...|2025-09-05T06:00:...|   280|          7|\n|7b38da76-f659-4d0...|  Male| 35| Maternity|2025-09-09T03:00:...|2025-09-06T04:00:...|   356|          3|\n|0aeb155a-dd63-45d...|Female| 57|  Oncology|2025-09-04T17:00:...|2025-09-04T17:00:...|   325|          7|\n|9b7ff8b7-faad-488...|Female| 40|   Surgery|2025-09-03T23:00:...|2025-09-03T23:00:...|   174|          7|\n|59a0f7f9-802a-41f...|  Male| 20|   Surgery|2025-09-05T10:00:...|2025-09-05T10:00:...|   425|          7|\n|0bddcdfd-e573-492...|  Male| 36| Maternity|2025-09-05T14:00:...|2025-09-05T14:00:...|   281|          3|\n|9bc74d4c-f700-49b...|Female| 53| Emergency|2025-09-05T22:00:...|2025-09-05T22:00:...|   205|          5|\n|29d9c522-5eb6-4b4...|Female| 71|   Surgery|2025-09-05T16:00:...|2025-09-05T16:00:...|   419|          3|\n|3443137d-2d65-4df...|Female| 53|  Oncology|2025-09-06T06:00:...|2025-09-06T06:00:...|   169|          3|\n+--------------------+------+---+----------+--------------------+--------------------+------+-----------+\n\n+--------------------+------+---+----------+--------------------+--------------------+------+-----------+\n|          patient_id|gender|age|department|      admission_time|      discharge_time|bed_id|hospital_id|\n+--------------------+------+---+----------+--------------------+--------------------+------+-----------+\n|364505fe-969f-4dc...|  Male|113|Cardiology|2025-09-05T03:00:...|2025-09-05T03:00:...|    82|          1|\n|5f36d76b-0a18-48b...|  Male| 52|       ICU|2025-09-03T20:00:...|2025-09-03T20:00:...|   204|          3|\n|abca7f6d-1eb0-49b...|Female| 14| Maternity|2025-09-06T05:00:...|2025-09-06T05:00:...|   438|          5|\n|64985072-3750-45a...|  Male| 14|  Oncology|2025-09-03T15:00:...|2025-09-03T15:00:...|   127|          3|\n|fb624ffe-3874-4e9...|  Male| 46| Emergency|2025-09-03T16:00:...|2025-09-03T16:00:...|   207|          5|\n|0bc46d1d-1e4e-418...|Female| 40|Pediatrics|2025-09-06T06:00:...|2025-09-06T06:00:...|   205|          7|\n|1b76f314-f92d-43e...|Female| 89| Emergency|2025-09-05T03:00:...|2025-09-05T03:00:...|   121|          3|\n|1f297c4f-8932-453...|  Male| 40|  Oncology|2025-09-04T11:00:...|2025-09-04T11:00:...|   149|          7|\n|4d504ef6-163c-420...|Female| 68| Emergency|2025-09-03T20:00:...|2025-09-03T20:00:...|   118|          5|\n|b3f95b1f-4a21-45f...|Female| 80|  Oncology|2025-09-04T19:00:...|2025-09-04T19:00:...|   323|          6|\n+--------------------+------+---+----------+--------------------+--------------------+------+-----------+\n\n+--------------------+------+---+----------+--------------------+--------------------+------+-----------+\n|          patient_id|gender|age|department|      admission_time|      discharge_time|bed_id|hospital_id|\n+--------------------+------+---+----------+--------------------+--------------------+------+-----------+\n|712b3af0-cbe4-400...|Female| 42| Emergency|2025-09-05T05:00:...|2025-09-05T05:00:...|     6|          1|\n|91e46100-7486-4f8...|Female| 80|  Oncology|2025-09-04T02:00:...|2025-09-04T02:00:...|   495|          6|\n|c29a834d-28ee-40d...|Female| 96|Pediatrics|2025-09-03T17:00:...|2025-09-03T17:00:...|   274|          6|\n|6551a535-06cd-470...|  Male| 89| Emergency|2025-09-04T23:00:...|2025-09-04T23:00:...|   230|          1|\n|873a7126-f790-470...|Female|146|   Surgery|2025-09-05T10:00:...|2025-09-05T10:00:...|   214|          3|\n|75b1ca57-b48f-4c6...|Female| 53|   Surgery|2025-09-04T11:00:...|2025-09-04T11:00:...|   302|          7|\n|08ea478d-8095-4be...|  Male| 48|   Surgery|2025-09-05T10:00:...|2025-09-05T10:00:...|    45|          7|\n|3260a328-8a37-41a...|Female| 44|  Oncology|2025-09-04T11:00:...|2025-09-04T11:00:...|    76|          7|\n|231d6c03-e5d3-4ca...|Female| 88| Emergency|2025-09-06T08:00:...|2025-09-06T08:00:...|   434|          3|\n|546b8fbe-690a-4a7...|Female|  2|Pediatrics|2025-09-05T03:00:...|2025-09-05T03:00:...|     6|          2|\n+--------------------+------+---+----------+--------------------+--------------------+------+-----------+\n\n+--------------------+------+---+----------+--------------------+--------------------+------+-----------+\n|          patient_id|gender|age|department|      admission_time|      discharge_time|bed_id|hospital_id|\n+--------------------+------+---+----------+--------------------+--------------------+------+-----------+\n|ade7aef9-a9c0-45c...|  Male|  4|Pediatrics|2025-09-04T01:00:...|2025-09-04T01:00:...|   459|          4|\n|ecc53c82-ae17-400...|Female| 91|       ICU|2025-09-04T12:00:...|2025-09-04T12:00:...|   336|          2|\n|eeeec3b4-b1d2-4fe...|Female| 57| Emergency|2025-09-05T03:00:...|2025-09-05T03:00:...|   170|          2|\n|e1e980ff-5b98-41e...|Female| 64| Emergency|2025-09-06T08:00:...|2025-09-06T08:00:...|   375|          6|\n|f92f6cc0-ab94-42d...|  Male| 99|  Oncology|2025-09-04T14:00:...|2025-09-04T14:00:...|   255|          5|\n|0f2b8016-52f2-491...|  Male| 65|       ICU|2025-09-03T15:00:...|2025-09-03T15:00:...|   304|          4|\n|8d09d4bc-3a68-4a4...|  Male| 83| Emergency|2025-09-06T04:00:...|2025-09-06T04:00:...|   476|          7|\n|6cd0b980-5fac-4c1...|Female| 27|  Oncology|2025-09-05T19:00:...|2025-09-05T19:00:...|   407|          7|\n|40fc10d4-646d-4df...|Female| 58|Pediatrics|2025-09-05T10:00:...|2025-09-05T10:00:...|   348|          6|\n|54bb3429-dda2-4d7...|  Male|  2|Pediatrics|2025-09-06T04:00:...|2025-09-06T04:00:...|   184|          3|\n+--------------------+------+---+----------+--------------------+--------------------+------+-----------+\n\n+--------------------+------+---+----------+--------------------+--------------------+------+-----------+\n|          patient_id|gender|age|department|      admission_time|      discharge_time|bed_id|hospital_id|\n+--------------------+------+---+----------+--------------------+--------------------+------+-----------+\n|ae8edd46-99bd-44d...|  Male| 38| Emergency|2025-09-06T09:00:...|2025-09-06T09:00:...|   353|          7|\n|dc6362b9-8765-457...|  Male| 25|   Surgery|2025-09-06T00:00:...|2025-09-06T00:00:...|   142|          6|\n|57bd5621-7532-4ea...|Female| 13|       ICU|2025-09-05T18:00:...|2025-09-05T18:00:...|   341|          6|\n|fc5609d8-fd31-492...|  Male| 94|   Surgery|2025-09-05T05:00:...|2025-09-05T05:00:...|   257|          3|\n|a8632810-90d6-4b4...|Female| 63| Maternity|2025-09-07T00:00:...|2025-09-06T06:00:...|   138|          4|\n|2bcf9ffc-e18a-425...|  Male|125|Cardiology|2025-09-04T14:00:...|2025-09-04T14:00:...|   444|          4|\n|1d40d1ab-9e20-4e9...|Female| 28|  Oncology|2025-09-03T13:00:...|2025-09-03T13:00:...|   403|          1|\n|76fd139e-e30d-4c7...|Female| 93|Cardiology|2025-09-04T13:00:...|2025-09-04T13:00:...|   130|          6|\n|947ff133-aad5-449...|  Male|146|Pediatrics|2025-09-06T10:00:...|2025-09-06T10:00:...|    50|          4|\n|0ae2d800-fcbc-4fe...|Female| 54|Pediatrics|2025-09-06T18:00:...|2025-09-05T03:00:...|   161|          1|\n+--------------------+------+---+----------+--------------------+--------------------+------+-----------+\n\n+--------------------+------+---+----------+--------------------+--------------------+------+-----------+\n|          patient_id|gender|age|department|      admission_time|      discharge_time|bed_id|hospital_id|\n+--------------------+------+---+----------+--------------------+--------------------+------+-----------+\n|3a1b3a02-e854-4e4...|Female| 46|  Oncology|2025-09-03T22:00:...|2025-09-03T22:00:...|     3|          2|\n|74690256-d4e2-4c5...|  Male| 74|   Surgery|2025-09-03T19:00:...|2025-09-03T19:00:...|     9|          7|\n|7daff8c5-a851-4da...|  Male|129| Maternity|2025-09-05T18:00:...|2025-09-05T18:00:...|   252|          7|\n|b3f0a1c7-389b-462...|  Male| 91| Emergency|2025-09-04T01:00:...|2025-09-04T01:00:...|   475|          3|\n|64697357-8dbb-434...|Female| 33| Emergency|2025-09-08T17:00:...|2025-09-05T22:00:...|   418|          6|\n|8ad4bc0b-d053-4d9...|Female| 47|Pediatrics|2025-09-03T22:00:...|2025-09-03T22:00:...|   458|          4|\n|397f7c77-a869-4bb...|  Male| 88| Maternity|2025-09-04T15:00:...|2025-09-04T15:00:...|   195|          2|\n|5f922ce2-035b-47b...|  Male|122|   Surgery|2025-09-05T02:00:...|2025-09-05T02:00:...|    83|          5|\n|47b409dd-d519-4e3...|  Male| 93|       ICU|2025-09-05T09:00:...|2025-09-05T09:00:...|    66|          3|\n|46a0d998-e476-4a8...|Female|  2|  Oncology|2025-09-05T06:00:...|2025-09-05T06:00:...|   460|          6|\n+--------------------+------+---+----------+--------------------+--------------------+------+-----------+\n\n+--------------------+------+---+----------+--------------------+--------------------+------+-----------+\n|          patient_id|gender|age|department|      admission_time|      discharge_time|bed_id|hospital_id|\n+--------------------+------+---+----------+--------------------+--------------------+------+-----------+\n|0ce9a137-651d-431...|Female| 34|Pediatrics|2025-09-04T07:00:...|2025-09-04T07:00:...|   215|          6|\n|6032dac7-a0cd-486...|  Male| 46|       ICU|2025-09-05T19:00:...|2025-09-05T19:00:...|   273|          3|\n|363f1b01-ce75-49f...|  Male| 60|       ICU|2025-09-06T01:00:...|2025-09-06T01:00:...|   129|          1|\n|ef6e5f4c-0b26-4b4...|Female| 43|  Oncology|2025-09-04T16:00:...|2025-09-04T16:00:...|    56|          7|\n|3b6a8252-2761-4f4...|  Male| 49|  Oncology|2025-09-05T12:00:...|2025-09-05T12:00:...|   363|          6|\n|5c0c91fc-1a7e-40b...|  Male| 54|Pediatrics|2025-09-04T12:00:...|2025-09-04T12:00:...|   250|          4|\n|e83e35ec-b252-417...|Female| 29|Pediatrics|2025-09-04T22:00:...|2025-09-04T22:00:...|   158|          5|\n|ea858472-77d6-426...|Female| 14|       ICU|2025-09-05T19:00:...|2025-09-05T19:00:...|   379|          6|\n|d2c48984-dfe8-4ab...|  Male| 82|   Surgery|2025-09-05T15:00:...|2025-09-05T15:00:...|   124|          1|\n|8d297093-e6da-461...|Female| 56| Emergency|2025-09-04T08:00:...|2025-09-04T08:00:...|   333|          6|\n+--------------------+------+---+----------+--------------------+--------------------+------+-----------+\n\n"
     ]
    },
    {
     "output_type": "display_data",
     "data": {
      "text/plain": [
       "com.databricks.backend.common.rpc.CommandCancelledException\n",
       "\tat com.databricks.spark.chauffeur.SequenceExecutionState.$anonfun$cancel$5(SequenceExecutionState.scala:136)\n",
       "\tat scala.Option.getOrElse(Option.scala:189)\n",
       "\tat com.databricks.spark.chauffeur.SequenceExecutionState.$anonfun$cancel$3(SequenceExecutionState.scala:136)\n",
       "\tat com.databricks.spark.chauffeur.SequenceExecutionState.$anonfun$cancel$3$adapted(SequenceExecutionState.scala:133)\n",
       "\tat scala.collection.immutable.Range.foreach(Range.scala:158)\n",
       "\tat com.databricks.spark.chauffeur.SequenceExecutionState.cancel(SequenceExecutionState.scala:133)\n",
       "\tat com.databricks.spark.chauffeur.ExecContextState.cancelRunningSequence(ExecContextState.scala:730)\n",
       "\tat com.databricks.spark.chauffeur.ExecContextState.$anonfun$cancel$1(ExecContextState.scala:448)\n",
       "\tat scala.Option.getOrElse(Option.scala:189)\n",
       "\tat com.databricks.spark.chauffeur.ExecContextState.cancel(ExecContextState.scala:448)\n",
       "\tat com.databricks.spark.chauffeur.ChauffeurState.cancelExecution(ChauffeurState.scala:1315)\n",
       "\tat com.databricks.spark.chauffeur.ChauffeurState.$anonfun$process$1(ChauffeurState.scala:1032)\n",
       "\tat com.databricks.logging.UsageLogging.$anonfun$recordOperation$1(UsageLogging.scala:573)\n",
       "\tat com.databricks.logging.UsageLogging.executeThunkAndCaptureResultTags$1(UsageLogging.scala:669)\n",
       "\tat com.databricks.logging.UsageLogging.$anonfun$recordOperationWithResultTags$4(UsageLogging.scala:687)\n",
       "\tat com.databricks.logging.UsageLogging.$anonfun$withAttributionContext$1(UsageLogging.scala:426)\n",
       "\tat scala.util.DynamicVariable.withValue(DynamicVariable.scala:62)\n",
       "\tat com.databricks.logging.AttributionContext$.withValue(AttributionContext.scala:216)\n",
       "\tat com.databricks.logging.UsageLogging.withAttributionContext(UsageLogging.scala:424)\n",
       "\tat com.databricks.logging.UsageLogging.withAttributionContext$(UsageLogging.scala:418)\n",
       "\tat com.databricks.spark.chauffeur.ChauffeurState.withAttributionContext(ChauffeurState.scala:74)\n",
       "\tat com.databricks.logging.UsageLogging.withAttributionTags(UsageLogging.scala:472)\n",
       "\tat com.databricks.logging.UsageLogging.withAttributionTags$(UsageLogging.scala:455)\n",
       "\tat com.databricks.spark.chauffeur.ChauffeurState.withAttributionTags(ChauffeurState.scala:74)\n",
       "\tat com.databricks.logging.UsageLogging.recordOperationWithResultTags(UsageLogging.scala:664)\n",
       "\tat com.databricks.logging.UsageLogging.recordOperationWithResultTags$(UsageLogging.scala:582)\n",
       "\tat com.databricks.spark.chauffeur.ChauffeurState.recordOperationWithResultTags(ChauffeurState.scala:74)\n",
       "\tat com.databricks.logging.UsageLogging.recordOperation(UsageLogging.scala:573)\n",
       "\tat com.databricks.logging.UsageLogging.recordOperation$(UsageLogging.scala:542)\n",
       "\tat com.databricks.spark.chauffeur.ChauffeurState.recordOperation(ChauffeurState.scala:74)\n",
       "\tat com.databricks.spark.chauffeur.ChauffeurState.process(ChauffeurState.scala:993)\n",
       "\tat com.databricks.spark.chauffeur.Chauffeur$$anon$1$$anonfun$receive$1.handleDriverRequest$1(Chauffeur.scala:815)\n",
       "\tat com.databricks.spark.chauffeur.Chauffeur$$anon$1$$anonfun$receive$1.$anonfun$applyOrElse$5(Chauffeur.scala:841)\n",
       "\tat com.databricks.logging.UsageLogging.executeThunkAndCaptureResultTags$1(UsageLogging.scala:669)\n",
       "\tat com.databricks.logging.UsageLogging.$anonfun$recordOperationWithResultTags$4(UsageLogging.scala:687)\n",
       "\tat com.databricks.logging.UsageLogging.$anonfun$withAttributionContext$1(UsageLogging.scala:426)\n",
       "\tat scala.util.DynamicVariable.withValue(DynamicVariable.scala:62)\n",
       "\tat com.databricks.logging.AttributionContext$.withValue(AttributionContext.scala:216)\n",
       "\tat com.databricks.logging.UsageLogging.withAttributionContext(UsageLogging.scala:424)\n",
       "\tat com.databricks.logging.UsageLogging.withAttributionContext$(UsageLogging.scala:418)\n",
       "\tat com.databricks.rpc.ServerBackend.withAttributionContext(ServerBackend.scala:22)\n",
       "\tat com.databricks.logging.UsageLogging.withAttributionTags(UsageLogging.scala:472)\n",
       "\tat com.databricks.logging.UsageLogging.withAttributionTags$(UsageLogging.scala:455)\n",
       "\tat com.databricks.rpc.ServerBackend.withAttributionTags(ServerBackend.scala:22)\n",
       "\tat com.databricks.logging.UsageLogging.recordOperationWithResultTags(UsageLogging.scala:664)\n",
       "\tat com.databricks.logging.UsageLogging.recordOperationWithResultTags$(UsageLogging.scala:582)\n",
       "\tat com.databricks.rpc.ServerBackend.recordOperationWithResultTags(ServerBackend.scala:22)\n",
       "\tat com.databricks.spark.chauffeur.Chauffeur$$anon$1$$anonfun$receive$1.handleDriverRequestWithUsageLogging$1(Chauffeur.scala:840)\n",
       "\tat com.databricks.spark.chauffeur.Chauffeur$$anon$1$$anonfun$receive$1.applyOrElse(Chauffeur.scala:895)\n",
       "\tat com.databricks.spark.chauffeur.Chauffeur$$anon$1$$anonfun$receive$1.applyOrElse(Chauffeur.scala:688)\n",
       "\tat com.databricks.rpc.ServerBackend.$anonfun$internalReceive0$2(ServerBackend.scala:174)\n",
       "\tat com.databricks.rpc.ServerBackend$$anonfun$commonReceive$1.applyOrElse(ServerBackend.scala:200)\n",
       "\tat com.databricks.rpc.ServerBackend$$anonfun$commonReceive$1.applyOrElse(ServerBackend.scala:200)\n",
       "\tat com.databricks.rpc.ServerBackend.internalReceive0(ServerBackend.scala:171)\n",
       "\tat com.databricks.rpc.ServerBackend.$anonfun$internalReceive$1(ServerBackend.scala:147)\n",
       "\tat com.databricks.logging.UsageLogging.$anonfun$recordOperation$1(UsageLogging.scala:573)\n",
       "\tat com.databricks.logging.UsageLogging.executeThunkAndCaptureResultTags$1(UsageLogging.scala:669)\n",
       "\tat com.databricks.logging.UsageLogging.$anonfun$recordOperationWithResultTags$4(UsageLogging.scala:687)\n",
       "\tat com.databricks.logging.UsageLogging.$anonfun$withAttributionContext$1(UsageLogging.scala:426)\n",
       "\tat scala.util.DynamicVariable.withValue(DynamicVariable.scala:62)\n",
       "\tat com.databricks.logging.AttributionContext$.withValue(AttributionContext.scala:216)\n",
       "\tat com.databricks.logging.UsageLogging.withAttributionContext(UsageLogging.scala:424)\n",
       "\tat com.databricks.logging.UsageLogging.withAttributionContext$(UsageLogging.scala:418)\n",
       "\tat com.databricks.rpc.ServerBackend.withAttributionContext(ServerBackend.scala:22)\n",
       "\tat com.databricks.logging.UsageLogging.withAttributionTags(UsageLogging.scala:472)\n",
       "\tat com.databricks.logging.UsageLogging.withAttributionTags$(UsageLogging.scala:455)\n",
       "\tat com.databricks.rpc.ServerBackend.withAttributionTags(ServerBackend.scala:22)\n",
       "\tat com.databricks.logging.UsageLogging.recordOperationWithResultTags(UsageLogging.scala:664)\n",
       "\tat com.databricks.logging.UsageLogging.recordOperationWithResultTags$(UsageLogging.scala:582)\n",
       "\tat com.databricks.rpc.ServerBackend.recordOperationWithResultTags(ServerBackend.scala:22)\n",
       "\tat com.databricks.logging.UsageLogging.recordOperation(UsageLogging.scala:573)\n",
       "\tat com.databricks.logging.UsageLogging.recordOperation$(UsageLogging.scala:542)\n",
       "\tat com.databricks.rpc.ServerBackend.recordOperation(ServerBackend.scala:22)\n",
       "\tat com.databricks.rpc.ServerBackend.internalReceive(ServerBackend.scala:147)\n",
       "\tat com.databricks.rpc.JettyServer$RequestManager.handleRPC(JettyServer.scala:1020)\n",
       "\tat com.databricks.rpc.JettyServer$RequestManager.handleRequestAndRespond(JettyServer.scala:941)\n",
       "\tat com.databricks.rpc.JettyServer$RequestManager.$anonfun$handleHttp$6(JettyServer.scala:545)\n",
       "\tat com.databricks.rpc.JettyServer$RequestManager.$anonfun$handleHttp$6$adapted(JettyServer.scala:514)\n",
       "\tat com.databricks.logging.activity.ActivityContextFactory$.$anonfun$withActivityInternal$4(ActivityContextFactory.scala:405)\n",
       "\tat com.databricks.logging.UsageLogging.$anonfun$withAttributionContext$1(UsageLogging.scala:426)\n",
       "\tat scala.util.DynamicVariable.withValue(DynamicVariable.scala:62)\n",
       "\tat com.databricks.logging.AttributionContext$.withValue(AttributionContext.scala:216)\n",
       "\tat com.databricks.logging.UsageLogging.withAttributionContext(UsageLogging.scala:424)\n",
       "\tat com.databricks.logging.UsageLogging.withAttributionContext$(UsageLogging.scala:418)\n",
       "\tat com.databricks.logging.activity.ActivityContextFactory$.withAttributionContext(ActivityContextFactory.scala:58)\n",
       "\tat com.databricks.logging.activity.ActivityContextFactory$.$anonfun$withActivityInternal$1(ActivityContextFactory.scala:405)\n",
       "\tat com.databricks.context.integrity.IntegrityCheckContext$ThreadLocalStorage$.withValue(IntegrityCheckContext.scala:44)\n",
       "\tat com.databricks.logging.activity.ActivityContextFactory$.withActivityInternal(ActivityContextFactory.scala:380)\n",
       "\tat com.databricks.logging.activity.ActivityContextFactory$.withServiceRequestActivity(ActivityContextFactory.scala:159)\n",
       "\tat com.databricks.rpc.JettyServer$RequestManager.handleHttp(JettyServer.scala:514)\n",
       "\tat com.databricks.rpc.JettyServer$RequestManager.doPost(JettyServer.scala:404)\n",
       "\tat javax.servlet.http.HttpServlet.service(HttpServlet.java:665)\n",
       "\tat com.databricks.rpc.HttpServletWithPatch.service(HttpServletWithPatch.scala:33)\n",
       "\tat javax.servlet.http.HttpServlet.service(HttpServlet.java:750)\n",
       "\tat org.eclipse.jetty.servlet.ServletHolder.handle(ServletHolder.java:799)\n",
       "\tat org.eclipse.jetty.servlet.ServletHandler.doHandle(ServletHandler.java:554)\n",
       "\tat org.eclipse.jetty.server.handler.ScopedHandler.nextScope(ScopedHandler.java:190)\n",
       "\tat org.eclipse.jetty.servlet.ServletHandler.doScope(ServletHandler.java:505)\n",
       "\tat org.eclipse.jetty.server.handler.ScopedHandler.handle(ScopedHandler.java:141)\n",
       "\tat org.eclipse.jetty.server.handler.HandlerWrapper.handle(HandlerWrapper.java:127)\n",
       "\tat org.eclipse.jetty.server.Server.handle(Server.java:516)\n",
       "\tat org.eclipse.jetty.server.HttpChannel.lambda$handle$1(HttpChannel.java:487)\n",
       "\tat org.eclipse.jetty.server.HttpChannel.dispatch(HttpChannel.java:732)\n",
       "\tat org.eclipse.jetty.server.HttpChannel.handle(HttpChannel.java:479)\n",
       "\tat org.eclipse.jetty.server.HttpConnection.onFillable(HttpConnection.java:277)\n",
       "\tat org.eclipse.jetty.io.AbstractConnection$ReadCallback.succeeded(AbstractConnection.java:311)\n",
       "\tat org.eclipse.jetty.io.FillInterest.fillable(FillInterest.java:105)\n",
       "\tat org.eclipse.jetty.io.ssl.SslConnection$DecryptedEndPoint.onFillable(SslConnection.java:555)\n",
       "\tat org.eclipse.jetty.io.ssl.SslConnection.onFillable(SslConnection.java:410)\n",
       "\tat org.eclipse.jetty.io.ssl.SslConnection$2.succeeded(SslConnection.java:164)\n",
       "\tat org.eclipse.jetty.io.FillInterest.fillable(FillInterest.java:105)\n",
       "\tat org.eclipse.jetty.io.ChannelEndPoint$1.run(ChannelEndPoint.java:104)\n",
       "\tat org.eclipse.jetty.util.thread.strategy.EatWhatYouKill.runTask(EatWhatYouKill.java:338)\n",
       "\tat org.eclipse.jetty.util.thread.strategy.EatWhatYouKill.doProduce(EatWhatYouKill.java:315)\n",
       "\tat org.eclipse.jetty.util.thread.strategy.EatWhatYouKill.tryProduce(EatWhatYouKill.java:173)\n",
       "\tat org.eclipse.jetty.util.thread.strategy.EatWhatYouKill.run(EatWhatYouKill.java:131)\n",
       "\tat org.eclipse.jetty.util.thread.ReservedThreadExecutor$ReservedThread.run(ReservedThreadExecutor.java:409)\n",
       "\tat com.databricks.rpc.InstrumentedQueuedThreadPool$$anon$1.$anonfun$run$4(InstrumentedQueuedThreadPool.scala:104)\n",
       "\tat scala.runtime.java8.JFunction0$mcV$sp.apply(JFunction0$mcV$sp.java:23)\n",
       "\tat com.databricks.logging.UsageLogging.$anonfun$withAttributionContext$1(UsageLogging.scala:426)\n",
       "\tat scala.util.DynamicVariable.withValue(DynamicVariable.scala:62)\n",
       "\tat com.databricks.logging.AttributionContext$.withValue(AttributionContext.scala:216)\n",
       "\tat com.databricks.logging.UsageLogging.withAttributionContext(UsageLogging.scala:424)\n",
       "\tat com.databricks.logging.UsageLogging.withAttributionContext$(UsageLogging.scala:418)\n",
       "\tat com.databricks.rpc.InstrumentedQueuedThreadPool.withAttributionContext(InstrumentedQueuedThreadPool.scala:47)\n",
       "\tat com.databricks.rpc.InstrumentedQueuedThreadPool$$anon$1.$anonfun$run$1(InstrumentedQueuedThreadPool.scala:104)\n",
       "\tat scala.runtime.java8.JFunction0$mcV$sp.apply(JFunction0$mcV$sp.java:23)\n",
       "\tat com.databricks.instrumentation.QueuedThreadPoolInstrumenter.trackActiveThreads(QueuedThreadPoolInstrumenter.scala:66)\n",
       "\tat com.databricks.instrumentation.QueuedThreadPoolInstrumenter.trackActiveThreads$(QueuedThreadPoolInstrumenter.scala:63)\n",
       "\tat com.databricks.rpc.InstrumentedQueuedThreadPool.trackActiveThreads(InstrumentedQueuedThreadPool.scala:47)\n",
       "\tat com.databricks.rpc.InstrumentedQueuedThreadPool$$anon$1.run(InstrumentedQueuedThreadPool.scala:86)\n",
       "\tat org.eclipse.jetty.util.thread.QueuedThreadPool.runJob(QueuedThreadPool.java:883)\n",
       "\tat org.eclipse.jetty.util.thread.QueuedThreadPool$Runner.run(QueuedThreadPool.java:1034)\n",
       "\tat java.lang.Thread.run(Thread.java:750)"
      ]
     },
     "metadata": {
      "application/vnd.databricks.v1+output": {
       "addedWidgets": {},
       "arguments": {},
       "datasetInfos": [],
       "jupyterProps": null,
       "metadata": {
        "errorSummary": "Cancelled"
       },
       "removedWidgets": [],
       "sqlProps": null,
       "stackFrames": [
        "com.databricks.backend.common.rpc.CommandCancelledException",
        "\tat com.databricks.spark.chauffeur.SequenceExecutionState.$anonfun$cancel$5(SequenceExecutionState.scala:136)",
        "\tat scala.Option.getOrElse(Option.scala:189)",
        "\tat com.databricks.spark.chauffeur.SequenceExecutionState.$anonfun$cancel$3(SequenceExecutionState.scala:136)",
        "\tat com.databricks.spark.chauffeur.SequenceExecutionState.$anonfun$cancel$3$adapted(SequenceExecutionState.scala:133)",
        "\tat scala.collection.immutable.Range.foreach(Range.scala:158)",
        "\tat com.databricks.spark.chauffeur.SequenceExecutionState.cancel(SequenceExecutionState.scala:133)",
        "\tat com.databricks.spark.chauffeur.ExecContextState.cancelRunningSequence(ExecContextState.scala:730)",
        "\tat com.databricks.spark.chauffeur.ExecContextState.$anonfun$cancel$1(ExecContextState.scala:448)",
        "\tat scala.Option.getOrElse(Option.scala:189)",
        "\tat com.databricks.spark.chauffeur.ExecContextState.cancel(ExecContextState.scala:448)",
        "\tat com.databricks.spark.chauffeur.ChauffeurState.cancelExecution(ChauffeurState.scala:1315)",
        "\tat com.databricks.spark.chauffeur.ChauffeurState.$anonfun$process$1(ChauffeurState.scala:1032)",
        "\tat com.databricks.logging.UsageLogging.$anonfun$recordOperation$1(UsageLogging.scala:573)",
        "\tat com.databricks.logging.UsageLogging.executeThunkAndCaptureResultTags$1(UsageLogging.scala:669)",
        "\tat com.databricks.logging.UsageLogging.$anonfun$recordOperationWithResultTags$4(UsageLogging.scala:687)",
        "\tat com.databricks.logging.UsageLogging.$anonfun$withAttributionContext$1(UsageLogging.scala:426)",
        "\tat scala.util.DynamicVariable.withValue(DynamicVariable.scala:62)",
        "\tat com.databricks.logging.AttributionContext$.withValue(AttributionContext.scala:216)",
        "\tat com.databricks.logging.UsageLogging.withAttributionContext(UsageLogging.scala:424)",
        "\tat com.databricks.logging.UsageLogging.withAttributionContext$(UsageLogging.scala:418)",
        "\tat com.databricks.spark.chauffeur.ChauffeurState.withAttributionContext(ChauffeurState.scala:74)",
        "\tat com.databricks.logging.UsageLogging.withAttributionTags(UsageLogging.scala:472)",
        "\tat com.databricks.logging.UsageLogging.withAttributionTags$(UsageLogging.scala:455)",
        "\tat com.databricks.spark.chauffeur.ChauffeurState.withAttributionTags(ChauffeurState.scala:74)",
        "\tat com.databricks.logging.UsageLogging.recordOperationWithResultTags(UsageLogging.scala:664)",
        "\tat com.databricks.logging.UsageLogging.recordOperationWithResultTags$(UsageLogging.scala:582)",
        "\tat com.databricks.spark.chauffeur.ChauffeurState.recordOperationWithResultTags(ChauffeurState.scala:74)",
        "\tat com.databricks.logging.UsageLogging.recordOperation(UsageLogging.scala:573)",
        "\tat com.databricks.logging.UsageLogging.recordOperation$(UsageLogging.scala:542)",
        "\tat com.databricks.spark.chauffeur.ChauffeurState.recordOperation(ChauffeurState.scala:74)",
        "\tat com.databricks.spark.chauffeur.ChauffeurState.process(ChauffeurState.scala:993)",
        "\tat com.databricks.spark.chauffeur.Chauffeur$$anon$1$$anonfun$receive$1.handleDriverRequest$1(Chauffeur.scala:815)",
        "\tat com.databricks.spark.chauffeur.Chauffeur$$anon$1$$anonfun$receive$1.$anonfun$applyOrElse$5(Chauffeur.scala:841)",
        "\tat com.databricks.logging.UsageLogging.executeThunkAndCaptureResultTags$1(UsageLogging.scala:669)",
        "\tat com.databricks.logging.UsageLogging.$anonfun$recordOperationWithResultTags$4(UsageLogging.scala:687)",
        "\tat com.databricks.logging.UsageLogging.$anonfun$withAttributionContext$1(UsageLogging.scala:426)",
        "\tat scala.util.DynamicVariable.withValue(DynamicVariable.scala:62)",
        "\tat com.databricks.logging.AttributionContext$.withValue(AttributionContext.scala:216)",
        "\tat com.databricks.logging.UsageLogging.withAttributionContext(UsageLogging.scala:424)",
        "\tat com.databricks.logging.UsageLogging.withAttributionContext$(UsageLogging.scala:418)",
        "\tat com.databricks.rpc.ServerBackend.withAttributionContext(ServerBackend.scala:22)",
        "\tat com.databricks.logging.UsageLogging.withAttributionTags(UsageLogging.scala:472)",
        "\tat com.databricks.logging.UsageLogging.withAttributionTags$(UsageLogging.scala:455)",
        "\tat com.databricks.rpc.ServerBackend.withAttributionTags(ServerBackend.scala:22)",
        "\tat com.databricks.logging.UsageLogging.recordOperationWithResultTags(UsageLogging.scala:664)",
        "\tat com.databricks.logging.UsageLogging.recordOperationWithResultTags$(UsageLogging.scala:582)",
        "\tat com.databricks.rpc.ServerBackend.recordOperationWithResultTags(ServerBackend.scala:22)",
        "\tat com.databricks.spark.chauffeur.Chauffeur$$anon$1$$anonfun$receive$1.handleDriverRequestWithUsageLogging$1(Chauffeur.scala:840)",
        "\tat com.databricks.spark.chauffeur.Chauffeur$$anon$1$$anonfun$receive$1.applyOrElse(Chauffeur.scala:895)",
        "\tat com.databricks.spark.chauffeur.Chauffeur$$anon$1$$anonfun$receive$1.applyOrElse(Chauffeur.scala:688)",
        "\tat com.databricks.rpc.ServerBackend.$anonfun$internalReceive0$2(ServerBackend.scala:174)",
        "\tat com.databricks.rpc.ServerBackend$$anonfun$commonReceive$1.applyOrElse(ServerBackend.scala:200)",
        "\tat com.databricks.rpc.ServerBackend$$anonfun$commonReceive$1.applyOrElse(ServerBackend.scala:200)",
        "\tat com.databricks.rpc.ServerBackend.internalReceive0(ServerBackend.scala:171)",
        "\tat com.databricks.rpc.ServerBackend.$anonfun$internalReceive$1(ServerBackend.scala:147)",
        "\tat com.databricks.logging.UsageLogging.$anonfun$recordOperation$1(UsageLogging.scala:573)",
        "\tat com.databricks.logging.UsageLogging.executeThunkAndCaptureResultTags$1(UsageLogging.scala:669)",
        "\tat com.databricks.logging.UsageLogging.$anonfun$recordOperationWithResultTags$4(UsageLogging.scala:687)",
        "\tat com.databricks.logging.UsageLogging.$anonfun$withAttributionContext$1(UsageLogging.scala:426)",
        "\tat scala.util.DynamicVariable.withValue(DynamicVariable.scala:62)",
        "\tat com.databricks.logging.AttributionContext$.withValue(AttributionContext.scala:216)",
        "\tat com.databricks.logging.UsageLogging.withAttributionContext(UsageLogging.scala:424)",
        "\tat com.databricks.logging.UsageLogging.withAttributionContext$(UsageLogging.scala:418)",
        "\tat com.databricks.rpc.ServerBackend.withAttributionContext(ServerBackend.scala:22)",
        "\tat com.databricks.logging.UsageLogging.withAttributionTags(UsageLogging.scala:472)",
        "\tat com.databricks.logging.UsageLogging.withAttributionTags$(UsageLogging.scala:455)",
        "\tat com.databricks.rpc.ServerBackend.withAttributionTags(ServerBackend.scala:22)",
        "\tat com.databricks.logging.UsageLogging.recordOperationWithResultTags(UsageLogging.scala:664)",
        "\tat com.databricks.logging.UsageLogging.recordOperationWithResultTags$(UsageLogging.scala:582)",
        "\tat com.databricks.rpc.ServerBackend.recordOperationWithResultTags(ServerBackend.scala:22)",
        "\tat com.databricks.logging.UsageLogging.recordOperation(UsageLogging.scala:573)",
        "\tat com.databricks.logging.UsageLogging.recordOperation$(UsageLogging.scala:542)",
        "\tat com.databricks.rpc.ServerBackend.recordOperation(ServerBackend.scala:22)",
        "\tat com.databricks.rpc.ServerBackend.internalReceive(ServerBackend.scala:147)",
        "\tat com.databricks.rpc.JettyServer$RequestManager.handleRPC(JettyServer.scala:1020)",
        "\tat com.databricks.rpc.JettyServer$RequestManager.handleRequestAndRespond(JettyServer.scala:941)",
        "\tat com.databricks.rpc.JettyServer$RequestManager.$anonfun$handleHttp$6(JettyServer.scala:545)",
        "\tat com.databricks.rpc.JettyServer$RequestManager.$anonfun$handleHttp$6$adapted(JettyServer.scala:514)",
        "\tat com.databricks.logging.activity.ActivityContextFactory$.$anonfun$withActivityInternal$4(ActivityContextFactory.scala:405)",
        "\tat com.databricks.logging.UsageLogging.$anonfun$withAttributionContext$1(UsageLogging.scala:426)",
        "\tat scala.util.DynamicVariable.withValue(DynamicVariable.scala:62)",
        "\tat com.databricks.logging.AttributionContext$.withValue(AttributionContext.scala:216)",
        "\tat com.databricks.logging.UsageLogging.withAttributionContext(UsageLogging.scala:424)",
        "\tat com.databricks.logging.UsageLogging.withAttributionContext$(UsageLogging.scala:418)",
        "\tat com.databricks.logging.activity.ActivityContextFactory$.withAttributionContext(ActivityContextFactory.scala:58)",
        "\tat com.databricks.logging.activity.ActivityContextFactory$.$anonfun$withActivityInternal$1(ActivityContextFactory.scala:405)",
        "\tat com.databricks.context.integrity.IntegrityCheckContext$ThreadLocalStorage$.withValue(IntegrityCheckContext.scala:44)",
        "\tat com.databricks.logging.activity.ActivityContextFactory$.withActivityInternal(ActivityContextFactory.scala:380)",
        "\tat com.databricks.logging.activity.ActivityContextFactory$.withServiceRequestActivity(ActivityContextFactory.scala:159)",
        "\tat com.databricks.rpc.JettyServer$RequestManager.handleHttp(JettyServer.scala:514)",
        "\tat com.databricks.rpc.JettyServer$RequestManager.doPost(JettyServer.scala:404)",
        "\tat javax.servlet.http.HttpServlet.service(HttpServlet.java:665)",
        "\tat com.databricks.rpc.HttpServletWithPatch.service(HttpServletWithPatch.scala:33)",
        "\tat javax.servlet.http.HttpServlet.service(HttpServlet.java:750)",
        "\tat org.eclipse.jetty.servlet.ServletHolder.handle(ServletHolder.java:799)",
        "\tat org.eclipse.jetty.servlet.ServletHandler.doHandle(ServletHandler.java:554)",
        "\tat org.eclipse.jetty.server.handler.ScopedHandler.nextScope(ScopedHandler.java:190)",
        "\tat org.eclipse.jetty.servlet.ServletHandler.doScope(ServletHandler.java:505)",
        "\tat org.eclipse.jetty.server.handler.ScopedHandler.handle(ScopedHandler.java:141)",
        "\tat org.eclipse.jetty.server.handler.HandlerWrapper.handle(HandlerWrapper.java:127)",
        "\tat org.eclipse.jetty.server.Server.handle(Server.java:516)",
        "\tat org.eclipse.jetty.server.HttpChannel.lambda$handle$1(HttpChannel.java:487)",
        "\tat org.eclipse.jetty.server.HttpChannel.dispatch(HttpChannel.java:732)",
        "\tat org.eclipse.jetty.server.HttpChannel.handle(HttpChannel.java:479)",
        "\tat org.eclipse.jetty.server.HttpConnection.onFillable(HttpConnection.java:277)",
        "\tat org.eclipse.jetty.io.AbstractConnection$ReadCallback.succeeded(AbstractConnection.java:311)",
        "\tat org.eclipse.jetty.io.FillInterest.fillable(FillInterest.java:105)",
        "\tat org.eclipse.jetty.io.ssl.SslConnection$DecryptedEndPoint.onFillable(SslConnection.java:555)",
        "\tat org.eclipse.jetty.io.ssl.SslConnection.onFillable(SslConnection.java:410)",
        "\tat org.eclipse.jetty.io.ssl.SslConnection$2.succeeded(SslConnection.java:164)",
        "\tat org.eclipse.jetty.io.FillInterest.fillable(FillInterest.java:105)",
        "\tat org.eclipse.jetty.io.ChannelEndPoint$1.run(ChannelEndPoint.java:104)",
        "\tat org.eclipse.jetty.util.thread.strategy.EatWhatYouKill.runTask(EatWhatYouKill.java:338)",
        "\tat org.eclipse.jetty.util.thread.strategy.EatWhatYouKill.doProduce(EatWhatYouKill.java:315)",
        "\tat org.eclipse.jetty.util.thread.strategy.EatWhatYouKill.tryProduce(EatWhatYouKill.java:173)",
        "\tat org.eclipse.jetty.util.thread.strategy.EatWhatYouKill.run(EatWhatYouKill.java:131)",
        "\tat org.eclipse.jetty.util.thread.ReservedThreadExecutor$ReservedThread.run(ReservedThreadExecutor.java:409)",
        "\tat com.databricks.rpc.InstrumentedQueuedThreadPool$$anon$1.$anonfun$run$4(InstrumentedQueuedThreadPool.scala:104)",
        "\tat scala.runtime.java8.JFunction0$mcV$sp.apply(JFunction0$mcV$sp.java:23)",
        "\tat com.databricks.logging.UsageLogging.$anonfun$withAttributionContext$1(UsageLogging.scala:426)",
        "\tat scala.util.DynamicVariable.withValue(DynamicVariable.scala:62)",
        "\tat com.databricks.logging.AttributionContext$.withValue(AttributionContext.scala:216)",
        "\tat com.databricks.logging.UsageLogging.withAttributionContext(UsageLogging.scala:424)",
        "\tat com.databricks.logging.UsageLogging.withAttributionContext$(UsageLogging.scala:418)",
        "\tat com.databricks.rpc.InstrumentedQueuedThreadPool.withAttributionContext(InstrumentedQueuedThreadPool.scala:47)",
        "\tat com.databricks.rpc.InstrumentedQueuedThreadPool$$anon$1.$anonfun$run$1(InstrumentedQueuedThreadPool.scala:104)",
        "\tat scala.runtime.java8.JFunction0$mcV$sp.apply(JFunction0$mcV$sp.java:23)",
        "\tat com.databricks.instrumentation.QueuedThreadPoolInstrumenter.trackActiveThreads(QueuedThreadPoolInstrumenter.scala:66)",
        "\tat com.databricks.instrumentation.QueuedThreadPoolInstrumenter.trackActiveThreads$(QueuedThreadPoolInstrumenter.scala:63)",
        "\tat com.databricks.rpc.InstrumentedQueuedThreadPool.trackActiveThreads(InstrumentedQueuedThreadPool.scala:47)",
        "\tat com.databricks.rpc.InstrumentedQueuedThreadPool$$anon$1.run(InstrumentedQueuedThreadPool.scala:86)",
        "\tat org.eclipse.jetty.util.thread.QueuedThreadPool.runJob(QueuedThreadPool.java:883)",
        "\tat org.eclipse.jetty.util.thread.QueuedThreadPool$Runner.run(QueuedThreadPool.java:1034)",
        "\tat java.lang.Thread.run(Thread.java:750)"
       ],
       "type": "baseError"
      }
     },
     "output_type": "display_data"
    }
   ],
   "source": [
    "# Data which was generated is streamed to Azure EventHub \n",
    "while True:\n",
    "    batch = generate_batch(10)\n",
    "    df = spark.createDataFrame(batch, schema)\n",
    "   \n",
    "    df_json = df.select(to_json(struct(\"*\")).alias(\"body\"))\n",
    "\n",
    "    df_json.write.format(\"eventhubs\").options(**event_hubs_conf).option(\"eventhubs.name\",\"hospital-data\").save()\n",
    "\n",
    "    df.show()\n",
    "    time.sleep(2)"
   ]
  },
  {
   "cell_type": "code",
   "execution_count": 0,
   "metadata": {
    "application/vnd.databricks.v1+cell": {
     "cellMetadata": {
      "byteLimit": 2048000,
      "rowLimit": 10000
     },
     "inputWidgets": {},
     "nuid": "ffc7970c-9e12-4900-884d-0fc31dde01f4",
     "showTitle": false,
     "tableResultSettingsMap": {},
     "title": ""
    }
   },
   "outputs": [],
   "source": [
    "connection_string = connection_string = dbutils.secrets.get(scope=\"hospitalanalyticsvaultscope\",key=\"eventhubkey\")\n",
    " \n",
    "event_hub_name = \"hospital-data\"\n",
    "\n",
    "event_hubs_conf = {\n",
    "    'eventhubs.connectionString': sc._jvm.org.apache.spark.eventhubs.EventHubsUtils.encrypt(connection_string)\n",
    "}"
   ]
  },
  {
   "cell_type": "code",
   "execution_count": 0,
   "metadata": {
    "application/vnd.databricks.v1+cell": {
     "cellMetadata": {
      "byteLimit": 2048000,
      "rowLimit": 10000
     },
     "inputWidgets": {},
     "nuid": "f839e6f9-1c44-4ece-a4ce-925928ca650e",
     "showTitle": false,
     "tableResultSettingsMap": {},
     "title": ""
    }
   },
   "outputs": [
    {
     "output_type": "execute_result",
     "data": {
      "text/plain": [
       "<pyspark.sql.streaming.query.StreamingQuery at 0x7fa3a4c95a20>"
      ]
     },
     "execution_count": 12,
     "metadata": {},
     "output_type": "execute_result"
    }
   ],
   "source": [
    "# Extracting data(binary format) from EventHub to the Bronze layer in ADLS Gen2 Storage\n",
    "raw_df = (spark.readStream.format(\"eventhubs\").options(**event_hubs_conf).load())\n",
    "\n",
    "json_df = raw_df.selectExpr(\"cast(body as STRING) as raw_json\")\n",
    "\n",
    "spark.conf.set(\n",
    "    \"fs.azure.account.key.hospitaldatastorag.dfs.core.windows.net\",\n",
    "    dbutils.secrets.get(scope=\"hospitalanalyticsvaultscope\",key=\"storageacct\")\n",
    ")\n",
    "\n",
    "bronze_path = \"abfss://bronze@hospitaldatastorag.dfs.core.windows.net/patient_flow\"\n",
    "\n",
    "(\n",
    "json_df.writeStream.format(\"delta\").outputMode(\"append\").option(\"checkpointLocation\",\"dbfs:/mnt/bronze/_checkpoints/patient_flow\").start(bronze_path)\n",
    ")"
   ]
  },
  {
   "cell_type": "code",
   "execution_count": 0,
   "metadata": {
    "application/vnd.databricks.v1+cell": {
     "cellMetadata": {
      "byteLimit": 2048000,
      "rowLimit": 10000
     },
     "inputWidgets": {},
     "nuid": "9b30193c-ecd7-47a4-801f-a8012a85f521",
     "showTitle": false,
     "tableResultSettingsMap": {},
     "title": ""
    }
   },
   "outputs": [
    {
     "output_type": "display_data",
     "data": {
      "text/plain": [
       "1330"
      ]
     },
     "metadata": {},
     "output_type": "display_data"
    }
   ],
   "source": [
    "display(spark.read.format(\"delta\").load(bronze_path).count())"
   ]
  }
 ],
 "metadata": {
  "application/vnd.databricks.v1+notebook": {
   "computePreferences": null,
   "dashboards": [],
   "environmentMetadata": {
    "base_environment": "",
    "environment_version": "3"
   },
   "inputWidgetPreferences": null,
   "language": "python",
   "notebookMetadata": {
    "pythonIndentUnit": 4
   },
   "notebookName": "Data extraction and Bronze Layer",
   "widgets": {}
  },
  "language_info": {
   "name": "python"
  }
 },
 "nbformat": 4,
 "nbformat_minor": 0
}