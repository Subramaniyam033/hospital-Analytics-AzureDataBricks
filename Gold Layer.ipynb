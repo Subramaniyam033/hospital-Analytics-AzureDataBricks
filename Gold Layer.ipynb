{
 "cells": [
  {
   "cell_type": "code",
   "execution_count": 0,
   "metadata": {
    "application/vnd.databricks.v1+cell": {
     "cellMetadata": {
      "byteLimit": 2048000,
      "rowLimit": 10000
     },
     "inputWidgets": {},
     "nuid": "9d232cc6-df5a-461a-9408-33124e078913",
     "showTitle": false,
     "tableResultSettingsMap": {},
     "title": ""
    }
   },
   "outputs": [],
   "source": [
    "from pyspark.sql import functions as F\n",
    "from pyspark.sql.functions import lit, col, expr, current_timestamp, to_timestamp, sha2, concat_ws, coalesce, monotonically_increasing_id\n",
    "from delta.tables import DeltaTable\n",
    "from pyspark.sql import Window"
   ]
  },
  {
   "cell_type": "code",
   "execution_count": 0,
   "metadata": {
    "application/vnd.databricks.v1+cell": {
     "cellMetadata": {
      "byteLimit": 2048000,
      "rowLimit": 10000
     },
     "inputWidgets": {},
     "nuid": "51da0b12-b4cf-40ba-bc89-d689c4347c73",
     "showTitle": false,
     "tableResultSettingsMap": {},
     "title": ""
    }
   },
   "outputs": [],
   "source": [
    "spark.conf.set(\n",
    "    \"fs.azure.account.key.hospitaldatastorag.dfs.core.windows.net\",\n",
    "    dbutils.secrets.get(scope=\"hospitalanalyticsvaultscope\",key=\"storageacct\")\n",
    ")\n",
    "\n",
    "silver_path = \"abfss://silver@hospitaldatastorag.dfs.core.windows.net/patient_flow\"\n",
    "gold_dim_patient = \"abfss://gold@hospitaldatastorag.dfs.core.windows.net/dim_patient\"\n",
    "gold_dim_dept = \"abfss://gold@hospitaldatastorag.dfs.core.windows.net/dim_department\"\n",
    "gold_fact =\"abfss://gold@hospitaldatastorag.dfs.core.windows.net/fact_patient_flow\""
   ]
  },
  {
   "cell_type": "code",
   "execution_count": 0,
   "metadata": {
    "application/vnd.databricks.v1+cell": {
     "cellMetadata": {
      "byteLimit": 2048000,
      "rowLimit": 10000
     },
     "inputWidgets": {},
     "nuid": "7356e44a-88d9-4d3f-b63f-a7c749187799",
     "showTitle": false,
     "tableResultSettingsMap": {},
     "title": ""
    }
   },
   "outputs": [],
   "source": [
    "# read the silverlayer data\n",
    "silver_df = spark.read.format(\"delta\").load(silver_path)\n",
    "\n",
    "#use window function to filter the latest admission time of patients\n",
    "w = Window.partitionBy(\"patient_id\").orderBy(col(\"admission_time\").desc())\n",
    "\n",
    "# Keep only the latest data\n",
    "silver_df = silver_df.withColumn(\"row_num\",F.row_number().over(w)).filter(col(\"row_num\") ==1).drop(\"row_num\")"
   ]
  },
  {
   "cell_type": "code",
   "execution_count": 0,
   "metadata": {
    "application/vnd.databricks.v1+cell": {
     "cellMetadata": {
      "byteLimit": 2048000,
      "rowLimit": 10000
     },
     "inputWidgets": {},
     "nuid": "f10d56e3-0d75-490d-b3ba-b36f6e410943",
     "showTitle": false,
     "tableResultSettingsMap": {},
     "title": ""
    }
   },
   "outputs": [],
   "source": [
    "# Create Patient Dimension table\n",
    "#prepare incoming patient records\n",
    "incoming_patient = (silver_df.select(\"patient_id\",\"gender\",\"age\").withColumn(\"effective_from\",F.current_timestamp())\n",
    "                                                                .withColumn(\"_hash\",F.sha2(F.concat_ws(\"||\",F.coalesce(col(\"gender\"),lit(\"NA\")),F.coalesce(col(\"age\").cast(\"String\"),lit(\"NA\"))),256))\n",
    "                                                                .withColumn(\"surrogate_key\", monotonically_increasing_id())  # ✅ always added\n",
    "                                                                .withColumn(\"effective_to\", lit(None).cast(\"timestamp\"))\n",
    "                                                                .withColumn(\"is_current\", lit(True))\n",
    "                                                                   )\n",
    "if not DeltaTable.isDeltaTable(spark,gold_dim_patient):\n",
    "    incoming_patient.write.format(\"delta\").mode(\"overwrite\")\\\n",
    "                    .save(gold_dim_patient)                                                                           \n",
    "\n",
    "target_patient = DeltaTable.forPath(spark,gold_dim_patient) \n"
   ]
  },
  {
   "cell_type": "code",
   "execution_count": 0,
   "metadata": {
    "application/vnd.databricks.v1+cell": {
     "cellMetadata": {
      "byteLimit": 2048000,
      "rowLimit": 10000
     },
     "inputWidgets": {},
     "nuid": "3dda4755-e2a3-47c1-993b-fd3c17862c6a",
     "showTitle": false,
     "tableResultSettingsMap": {},
     "title": ""
    }
   },
   "outputs": [],
   "source": [
    "(\n",
    "target_patient.alias(\"t\").merge(incoming_patient.alias(\"i\"),\"t.patient_id==i.patient_id\").whenMatchedUpdate(\n",
    "    condition=\"t.is_current=True AND t._hash <> i._hash\",\n",
    "    set={\n",
    "        \"is_current\":\"false\",\n",
    "        \"effective_to\":\"current_timestamp()\"\n",
    "    }\n",
    ").whenNotMatchedInsert(\n",
    "    values={\n",
    "        \"surrogate_key\": col(\"i.surrogate_key\"),\n",
    "            \"patient_id\": col(\"i.patient_id\"),\n",
    "            \"gender\": col(\"i.gender\"),\n",
    "            \"age\": col(\"i.age\"),\n",
    "            \"effective_from\": col(\"i.effective_from\"),\n",
    "            \"effective_to\": col(\"i.effective_to\"),\n",
    "            \"is_current\": col(\"i.is_current\"),\n",
    "            \"_hash\": col(\"i._hash\")\n",
    "    }\n",
    ").execute()\n",
    ")"
   ]
  },
  {
   "cell_type": "code",
   "execution_count": 0,
   "metadata": {
    "application/vnd.databricks.v1+cell": {
     "cellMetadata": {
      "byteLimit": 2048000,
      "rowLimit": 10000
     },
     "inputWidgets": {},
     "nuid": "a0774236-3bb2-436d-b4cd-42e8a84c92ea",
     "showTitle": false,
     "tableResultSettingsMap": {},
     "title": ""
    }
   },
   "outputs": [],
   "source": [
    "\n",
    "incoming_department = (silver_df.select(\"department\",\"hospital_id\")\n",
    "                               .dropDuplicates([\"department\",\"hospital_id\"])\n",
    "                               .withColumn(\"surrogate_key\",F.monotonically_increasing_id())\n",
    ")\n",
    "\n",
    "#Department Dimension\n",
    "if not DeltaTable.isDeltaTable(spark, gold_dim_dept):\n",
    "    incoming_department.write.format(\"delta\").mode(\"overwrite\").save(gold_dim_dept)\n",
    "\n",
    "\n",
    "\n",
    "dim_department_df = (spark.read.format(\"delta\").load(gold_dim_dept).select(F.col(\"surrogate_key\").alias(\"department_sk\"),\"department\",\"hospital_id\"))\n"
   ]
  },
  {
   "cell_type": "code",
   "execution_count": 0,
   "metadata": {
    "application/vnd.databricks.v1+cell": {
     "cellMetadata": {
      "byteLimit": 2048000,
      "rowLimit": 10000
     },
     "inputWidgets": {},
     "nuid": "fadfd2ed-23d3-4279-b395-0d8fe487449c",
     "showTitle": false,
     "tableResultSettingsMap": {},
     "title": ""
    }
   },
   "outputs": [],
   "source": [
    "#Fact Table\n",
    "dim_patient_df = spark.read.format(\"delta\").load(gold_dim_patient).filter(F.col(\"is_current\")==\"True\").select(F.col(\"surrogate_key\").alias(\"patient_sk\"),\"patient_id\")"
   ]
  },
  {
   "cell_type": "code",
   "execution_count": 0,
   "metadata": {
    "application/vnd.databricks.v1+cell": {
     "cellMetadata": {
      "byteLimit": 2048000,
      "rowLimit": 10000
     },
     "inputWidgets": {},
     "nuid": "071321d3-82aa-48df-9324-fa3edb88b249",
     "showTitle": false,
     "tableResultSettingsMap": {},
     "title": ""
    }
   },
   "outputs": [],
   "source": [
    "fact_base = silver_df.select(\"patient_id\",\"department\",\"hospital_id\",\"admission_time\",\"discharge_time\",\"bed_id\")\\\n",
    "                     .withColumn(\"admission_date\",F.to_date(\"admission_time\"))\n",
    "\n",
    "fact_enriched = fact_base.join(dim_patient_df,\"patient_id\",\"left\").join(dim_department_df,[\"department\",\"hospital_id\"],\"left\")\\\n",
    "                         .withColumn(\"length_of_stay\",(F.unix_timestamp(\"discharge_time\")-F.unix_timestamp(\"admission_time\"))/3600)\\\n",
    "                         .withColumn(\"is_currently_admitted\",F.when(col(\"discharge_time\")>current_timestamp(),F.lit(\"False\")).otherwise(F.lit(\"True\"))).withColumn(\"event_ingestion_time\",F.current_timestamp())"
   ]
  },
  {
   "cell_type": "code",
   "execution_count": 0,
   "metadata": {
    "application/vnd.databricks.v1+cell": {
     "cellMetadata": {
      "byteLimit": 2048000,
      "rowLimit": 10000
     },
     "inputWidgets": {},
     "nuid": "8d29947e-83b3-432f-8ab4-c91ad771bce6",
     "showTitle": false,
     "tableResultSettingsMap": {},
     "title": ""
    }
   },
   "outputs": [],
   "source": [
    "fact_final = fact_enriched.select(F.monotonically_increasing_id().alias(\"fact_id\"),\n",
    "                                  \"patient_sk\",\n",
    "                                  \"department_sk\",\n",
    "                                  \"admission_time\",\n",
    "                                  \"discharge_time\",\n",
    "                                  \"admission_date\",\n",
    "                                  \"length_of_stay\",\n",
    "                                  \"is_currently_admitted\",\n",
    "                                  \"bed_id\",\n",
    "                                  \"event_ingestion_time\"\n",
    "                                  )                            \n",
    "\n",
    "fact_final.write.format(\"delta\").mode(\"overwrite\").partitionBy(\"admission_date\").save(gold_fact)"
   ]
  },
  {
   "cell_type": "code",
   "execution_count": 0,
   "metadata": {
    "application/vnd.databricks.v1+cell": {
     "cellMetadata": {
      "byteLimit": 2048000,
      "rowLimit": 10000
     },
     "inputWidgets": {},
     "nuid": "26064a3c-8e8d-44b1-99c8-477a4652e6b7",
     "showTitle": false,
     "tableResultSettingsMap": {},
     "title": ""
    }
   },
   "outputs": [
    {
     "output_type": "stream",
     "name": "stdout",
     "output_type": "stream",
     "text": [
      "gold_dim_patient 1210\ngold_dim_department 49\ngold_fact 1210\n"
     ]
    }
   ],
   "source": [
    "print(\"gold_dim_patient\",spark.read.format(\"delta\").load(gold_dim_patient).count())\n",
    "print(\"gold_dim_department\",spark.read.format(\"delta\").load(gold_dim_dept).count())\n",
    "print(\"gold_fact\",spark.read.format(\"delta\").load(gold_fact).count())"
   ]
  }
 ],
 "metadata": {
  "application/vnd.databricks.v1+notebook": {
   "computePreferences": null,
   "dashboards": [],
   "environmentMetadata": {
    "base_environment": "",
    "environment_version": "3"
   },
   "inputWidgetPreferences": null,
   "language": "python",
   "notebookMetadata": {
    "pythonIndentUnit": 4
   },
   "notebookName": "Gold Layer",
   "widgets": {}
  },
  "language_info": {
   "name": "python"
  }
 },
 "nbformat": 4,
 "nbformat_minor": 0
}